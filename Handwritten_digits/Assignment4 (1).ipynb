{
  "cells": [
    {
      "cell_type": "code",
      "execution_count": null,
      "metadata": {
        "id": "lIYdn1woOS1n"
      },
      "outputs": [],
      "source": [
        "import numpy as np\n",
        "import pandas as pd\n",
        "from sklearn import datasets\n",
        "import matplotlib.pyplot as plt\n",
        "from sklearn.model_selection import train_test_split\n"
      ]
    },
    {
      "cell_type": "code",
      "source": [
        "digits = datasets.load_digits()"
      ],
      "metadata": {
        "id": "HJ_XZx4nQxmr"
      },
      "execution_count": null,
      "outputs": []
    },
    {
      "cell_type": "code",
      "source": [
        "print(digits.keys())\n",
        "print(digits.DESCR)"
      ],
      "metadata": {
        "id": "BEXZjFk3RAjX",
        "outputId": "c823a036-e6c0-4fd7-fc6b-2dc33f40b0be",
        "colab": {
          "base_uri": "https://localhost:8080/"
        }
      },
      "execution_count": null,
      "outputs": [
        {
          "output_type": "stream",
          "name": "stdout",
          "text": [
            "dict_keys(['data', 'target', 'frame', 'feature_names', 'target_names', 'images', 'DESCR'])\n",
            ".. _digits_dataset:\n",
            "\n",
            "Optical recognition of handwritten digits dataset\n",
            "--------------------------------------------------\n",
            "\n",
            "**Data Set Characteristics:**\n",
            "\n",
            "    :Number of Instances: 1797\n",
            "    :Number of Attributes: 64\n",
            "    :Attribute Information: 8x8 image of integer pixels in the range 0..16.\n",
            "    :Missing Attribute Values: None\n",
            "    :Creator: E. Alpaydin (alpaydin '@' boun.edu.tr)\n",
            "    :Date: July; 1998\n",
            "\n",
            "This is a copy of the test set of the UCI ML hand-written digits datasets\n",
            "https://archive.ics.uci.edu/ml/datasets/Optical+Recognition+of+Handwritten+Digits\n",
            "\n",
            "The data set contains images of hand-written digits: 10 classes where\n",
            "each class refers to a digit.\n",
            "\n",
            "Preprocessing programs made available by NIST were used to extract\n",
            "normalized bitmaps of handwritten digits from a preprinted form. From a\n",
            "total of 43 people, 30 contributed to the training set and different 13\n",
            "to the test set. 32x32 bitmaps are divided into nonoverlapping blocks of\n",
            "4x4 and the number of on pixels are counted in each block. This generates\n",
            "an input matrix of 8x8 where each element is an integer in the range\n",
            "0..16. This reduces dimensionality and gives invariance to small\n",
            "distortions.\n",
            "\n",
            "For info on NIST preprocessing routines, see M. D. Garris, J. L. Blue, G.\n",
            "T. Candela, D. L. Dimmick, J. Geist, P. J. Grother, S. A. Janet, and C.\n",
            "L. Wilson, NIST Form-Based Handprint Recognition System, NISTIR 5469,\n",
            "1994.\n",
            "\n",
            ".. topic:: References\n",
            "\n",
            "  - C. Kaynak (1995) Methods of Combining Multiple Classifiers and Their\n",
            "    Applications to Handwritten Digit Recognition, MSc Thesis, Institute of\n",
            "    Graduate Studies in Science and Engineering, Bogazici University.\n",
            "  - E. Alpaydin, C. Kaynak (1998) Cascading Classifiers, Kybernetika.\n",
            "  - Ken Tang and Ponnuthurai N. Suganthan and Xi Yao and A. Kai Qin.\n",
            "    Linear dimensionalityreduction using relevance weighted LDA. School of\n",
            "    Electrical and Electronic Engineering Nanyang Technological University.\n",
            "    2005.\n",
            "  - Claudio Gentile. A New Approximate Maximal Margin Classification\n",
            "    Algorithm. NIPS. 2000.\n",
            "\n"
          ]
        }
      ]
    },
    {
      "cell_type": "code",
      "source": [
        "print(digits.images.shape)\n",
        "print(digits.data.shape)"
      ],
      "metadata": {
        "id": "asZDO00XRbTb",
        "outputId": "bdeca4d2-8e4c-430d-9c8b-0cf94cf4b6a4",
        "colab": {
          "base_uri": "https://localhost:8080/"
        }
      },
      "execution_count": null,
      "outputs": [
        {
          "output_type": "stream",
          "name": "stdout",
          "text": [
            "(1797, 8, 8)\n",
            "(1797, 64)\n"
          ]
        }
      ]
    },
    {
      "cell_type": "code",
      "source": [
        "for i in range(10):\n",
        "    plt.imshow(digits.images[i], cmap=plt.cm.gray_r, interpolation='nearest')\n",
        "    plt.show()"
      ],
      "metadata": {
        "id": "BmatvnGuRjBV",
        "outputId": "ad89a24f-b237-41d5-b9ca-14d073b4dba1",
        "colab": {
          "base_uri": "https://localhost:8080/",
          "height": 1000
        }
      },
      "execution_count": null,
      "outputs": [
        {
          "output_type": "display_data",
          "data": {
            "text/plain": [
              "<Figure size 432x288 with 1 Axes>"
            ],
            "image/png": "[encoded data removed]"
          },
          "metadata": {
            "needs_background": "light"
          }
        },
        {
          "output_type": "display_data",
          "data": {
            "text/plain": [
              "<Figure size 432x288 with 1 Axes>"
            ],
            "image/png": "[encoded data removed]"
          },
          "metadata": {
            "needs_background": "light"
          }
        },
        {
          "output_type": "display_data",
          "data": {
            "text/plain": [
              "<Figure size 432x288 with 1 Axes>"
            ],
            "image/png": "[encoded data removed]"
          },
          "metadata": {
            "needs_background": "light"
          }
        },
        {
          "output_type": "display_data",
          "data": {
            "text/plain": [
              "<Figure size 432x288 with 1 Axes>"
            ],
            "image/png": "[encoded data removed]"
          },
          "metadata": {
            "needs_background": "light"
          }
        },
        {
          "output_type": "display_data",
          "data": {
            "text/plain": [
              "<Figure size 432x288 with 1 Axes>"
            ],
            "image/png": "[encoded data removed]"
          },
          "metadata": {
            "needs_background": "light"
          }
        },
        {
          "output_type": "display_data",
          "data": {
            "text/plain": [
              "<Figure size 432x288 with 1 Axes>"
            ],
            "image/png": "[encoded data removed]"
          },
          "metadata": {
            "needs_background": "light"
          }
        },
        {
          "output_type": "display_data",
          "data": {
            "text/plain": [
              "<Figure size 432x288 with 1 Axes>"
            ],
            "image/png": "[encoded data removed]"
          },
          "metadata": {
            "needs_background": "light"
          }
        },
        {
          "output_type": "display_data",
          "data": {
            "text/plain": [
              "<Figure size 432x288 with 1 Axes>"
            ],
            "image/png": "[encoded data removed]"
          },
          "metadata": {
            "needs_background": "light"
          }
        },
        {
          "output_type": "display_data",
          "data": {
            "text/plain": [
              "<Figure size 432x288 with 1 Axes>"
            ],
            "image/png": "[encoded data removed]"
          },
          "metadata": {
            "needs_background": "light"
          }
        },
        {
          "output_type": "display_data",
          "data": {
            "text/plain": [
              "<Figure size 432x288 with 1 Axes>"
            ],
            "image/png": "[encoded data removed]"
          },
          "metadata": {
            "needs_background": "light"
          }
        }
      ]
    },
    {
      "cell_type": "code",
      "source": [
        "X = digits.images\n",
        "y = digits.target"
      ],
      "metadata": {
        "id": "jOLiSUf-R5oa"
      },
      "execution_count": null,
      "outputs": []
    },
    {
      "cell_type": "code",
      "source": [
        "X_train, X_test, y_train, y_test = train_test_split(X,y, test_size = 0.2, random_state=42, stratify=y)"
      ],
      "metadata": {
        "id": "NfB1bMH2R7Wo"
      },
      "execution_count": null,
      "outputs": []
    },
    {
      "cell_type": "code",
      "source": [
        "X_train.shape"
      ],
      "metadata": {
        "colab": {
          "base_uri": "https://localhost:8080/"
        },
        "id": "CpB6Vg7OaI8f",
        "outputId": "6e4f62e4-da67-4633-eb3b-93fdb8cce6c8"
      },
      "execution_count": null,
      "outputs": [
        {
          "output_type": "execute_result",
          "data": {
            "text/plain": [
              "(1437, 8, 8)"
            ]
          },
          "metadata": {},
          "execution_count": 52
        }
      ]
    },
    {
      "cell_type": "code",
      "source": [
        "plt.gray()\n",
        "plt.imshow(X_train[0])"
      ],
      "metadata": {
        "colab": {
          "base_uri": "https://localhost:8080/",
          "height": 282
        },
        "id": "B_VOsNEmaZTG",
        "outputId": "454e8a60-9aec-4d86-9ce1-6c10e15cf9d8"
      },
      "execution_count": null,
      "outputs": [
        {
          "output_type": "execute_result",
          "data": {
            "text/plain": [
              "<matplotlib.image.AxesImage at 0x7fa1e8ac26a0>"
            ]
          },
          "metadata": {},
          "execution_count": 53
        },
        {
          "output_type": "display_data",
          "data": {
            "text/plain": [
              "<Figure size 432x288 with 1 Axes>"
            ],
            "image/png": "[encoded data removed]"
          },
          "metadata": {
            "needs_background": "light"
          }
        }
      ]
    },
    {
      "cell_type": "code",
      "source": [
        "y_train[0]"
      ],
      "metadata": {
        "colab": {
          "base_uri": "https://localhost:8080/"
        },
        "id": "nGxkZvkgaZlB",
        "outputId": "a607b32e-4b39-4a77-8f87-adce526b5ed3"
      },
      "execution_count": null,
      "outputs": [
        {
          "output_type": "execute_result",
          "data": {
            "text/plain": [
              "5"
            ]
          },
          "metadata": {},
          "execution_count": 54
        }
      ]
    },
    {
      "cell_type": "code",
      "source": [
        "from keras.models import Sequential\n",
        "from keras.layers import Dense, Dropout\n",
        "model_mlp = Sequential([\n",
        "   Dense(1024, activation='relu', input_shape=(64,)),\n",
        "   Dense(128, activation='tanh'),\n",
        "   Dropout(rate=0.4),\n",
        "   Dense(64, activation='relu'),\n",
        "   Dense(10, activation='softmax')\n",
        "])\n",
        "model_mlp.summary()"
      ],
      "metadata": {
        "id": "NPvNxnF_u_g0",
        "colab": {
          "base_uri": "https://localhost:8080/"
        },
        "outputId": "9f02d6f6-01f0-4a90-939d-8eb21df21536"
      },
      "execution_count": null,
      "outputs": [
        {
          "output_type": "stream",
          "name": "stdout",
          "text": [
            "Model: \"sequential_1\"\n",
            "_________________________________________________________________\n",
            " Layer (type)                Output Shape              Param #   \n",
            "=================================================================\n",
            " dense_4 (Dense)             (None, 1024)              66560     \n",
            "                                                                 \n",
            " dense_5 (Dense)             (None, 128)               131200    \n",
            "                                                                 \n",
            " dropout_1 (Dropout)         (None, 128)               0         \n",
            "                                                                 \n",
            " dense_6 (Dense)             (None, 64)                8256      \n",
            "                                                                 \n",
            " dense_7 (Dense)             (None, 10)                650       \n",
            "                                                                 \n",
            "=================================================================\n",
            "Total params: 206,666\n",
            "Trainable params: 206,666\n",
            "Non-trainable params: 0\n",
            "_________________________________________________________________\n"
          ]
        }
      ]
    },
    {
      "cell_type": "code",
      "source": [
        "model_mlp.compile(optimizer='adam', loss='categorical_crossentropy', metrics=['accuracy'])"
      ],
      "metadata": {
        "id": "9xdOj331b1Em"
      },
      "execution_count": null,
      "outputs": []
    },
    {
      "cell_type": "code",
      "source": [
        "X_train.shape"
      ],
      "metadata": {
        "colab": {
          "base_uri": "https://localhost:8080/"
        },
        "id": "SMZlfeeNb1XC",
        "outputId": "7b6632e1-2c13-4c6a-8f15-6e5db161f836"
      },
      "execution_count": null,
      "outputs": [
        {
          "output_type": "execute_result",
          "data": {
            "text/plain": [
              "(1437, 8, 8)"
            ]
          },
          "metadata": {},
          "execution_count": 57
        }
      ]
    },
    {
      "cell_type": "code",
      "source": [
        "X_train_mlp = X_train.reshape(1437, 8*8)\n",
        "X_train_mlp.shape"
      ],
      "metadata": {
        "colab": {
          "base_uri": "https://localhost:8080/"
        },
        "id": "4BVFbY1lb1fj",
        "outputId": "7eb67ce5-9f3d-41c4-b921-f49ffbd2ac2b"
      },
      "execution_count": null,
      "outputs": [
        {
          "output_type": "execute_result",
          "data": {
            "text/plain": [
              "(1437, 64)"
            ]
          },
          "metadata": {},
          "execution_count": 58
        }
      ]
    },
    {
      "cell_type": "code",
      "source": [
        "type(X_train_mlp[0][50])"
      ],
      "metadata": {
        "colab": {
          "base_uri": "https://localhost:8080/"
        },
        "id": "6SSm1Bl0cyAV",
        "outputId": "80c0bc60-1192-4a32-8a08-95a423522560"
      },
      "execution_count": null,
      "outputs": [
        {
          "output_type": "execute_result",
          "data": {
            "text/plain": [
              "numpy.float64"
            ]
          },
          "metadata": {},
          "execution_count": 59
        }
      ]
    },
    {
      "cell_type": "code",
      "source": [
        "X_train_mlp[0][50]"
      ],
      "metadata": {
        "colab": {
          "base_uri": "https://localhost:8080/"
        },
        "id": "oTkXQtdqcyDO",
        "outputId": "4bc0d3e1-4fea-4520-8482-2f6ef024e8dd"
      },
      "execution_count": null,
      "outputs": [
        {
          "output_type": "execute_result",
          "data": {
            "text/plain": [
              "15.0"
            ]
          },
          "metadata": {},
          "execution_count": 60
        }
      ]
    },
    {
      "cell_type": "code",
      "source": [
        "X_train_mlp = X_train_mlp.astype('float32') / 255"
      ],
      "metadata": {
        "id": "HBxGwPLyaZp9"
      },
      "execution_count": null,
      "outputs": []
    },
    {
      "cell_type": "code",
      "source": [
        "type(X_train_mlp[0][50])"
      ],
      "metadata": {
        "colab": {
          "base_uri": "https://localhost:8080/"
        },
        "id": "hRzAR7IKd7go",
        "outputId": "0c693989-ee41-423b-8da8-b420542350f5"
      },
      "execution_count": null,
      "outputs": [
        {
          "output_type": "execute_result",
          "data": {
            "text/plain": [
              "numpy.float32"
            ]
          },
          "metadata": {},
          "execution_count": 62
        }
      ]
    },
    {
      "cell_type": "code",
      "source": [
        "X_train_mlp[0][50]"
      ],
      "metadata": {
        "colab": {
          "base_uri": "https://localhost:8080/"
        },
        "id": "SXNVRv4Gd7il",
        "outputId": "b2fc035c-df7d-4a56-f738-df736ce21ff5"
      },
      "execution_count": null,
      "outputs": [
        {
          "output_type": "execute_result",
          "data": {
            "text/plain": [
              "0.05882353"
            ]
          },
          "metadata": {},
          "execution_count": 63
        }
      ]
    },
    {
      "cell_type": "code",
      "source": [
        "15.0/255"
      ],
      "metadata": {
        "colab": {
          "base_uri": "https://localhost:8080/"
        },
        "id": "0VJcBzWud7lQ",
        "outputId": "9cf417a6-6b45-4f64-8b37-5808465f36e7"
      },
      "execution_count": null,
      "outputs": [
        {
          "output_type": "execute_result",
          "data": {
            "text/plain": [
              "0.058823529411764705"
            ]
          },
          "metadata": {},
          "execution_count": 64
        }
      ]
    },
    {
      "cell_type": "code",
      "source": [
        "X_test.shape"
      ],
      "metadata": {
        "colab": {
          "base_uri": "https://localhost:8080/"
        },
        "id": "5DfmgPKXev4d",
        "outputId": "4c594835-59ad-4ef4-905d-d534e46a75a8"
      },
      "execution_count": null,
      "outputs": [
        {
          "output_type": "execute_result",
          "data": {
            "text/plain": [
              "(360, 8, 8)"
            ]
          },
          "metadata": {},
          "execution_count": 65
        }
      ]
    },
    {
      "cell_type": "code",
      "source": [
        "y_test.shape"
      ],
      "metadata": {
        "colab": {
          "base_uri": "https://localhost:8080/"
        },
        "id": "AVKjYgmte3QA",
        "outputId": "3b7d6d6c-2b3d-4283-b619-7a9e8ced8eb3"
      },
      "execution_count": null,
      "outputs": [
        {
          "output_type": "execute_result",
          "data": {
            "text/plain": [
              "(360,)"
            ]
          },
          "metadata": {},
          "execution_count": 66
        }
      ]
    },
    {
      "cell_type": "code",
      "source": [
        "X_test_mlp = X_test.reshape(360,8*8)\n",
        "X_test_mlp = X_test_mlp.astype('float32') / 255"
      ],
      "metadata": {
        "id": "GoBG1xard7mw"
      },
      "execution_count": null,
      "outputs": []
    },
    {
      "cell_type": "code",
      "source": [
        "X_test_mlp.shape"
      ],
      "metadata": {
        "colab": {
          "base_uri": "https://localhost:8080/"
        },
        "id": "Lfd6vC7owfdl",
        "outputId": "6a7254a7-6c43-42b0-f14b-afd0d4882e5f"
      },
      "execution_count": null,
      "outputs": [
        {
          "output_type": "execute_result",
          "data": {
            "text/plain": [
              "(360, 64)"
            ]
          },
          "metadata": {},
          "execution_count": 68
        }
      ]
    },
    {
      "cell_type": "code",
      "source": [
        "y_train[0]"
      ],
      "metadata": {
        "colab": {
          "base_uri": "https://localhost:8080/"
        },
        "id": "J9acBy5Bd7qN",
        "outputId": "6f444032-b721-427b-e3db-44d4c4548570"
      },
      "execution_count": null,
      "outputs": [
        {
          "output_type": "execute_result",
          "data": {
            "text/plain": [
              "5"
            ]
          },
          "metadata": {},
          "execution_count": 69
        }
      ]
    },
    {
      "cell_type": "code",
      "source": [
        "from keras.utils import to_categorical\n",
        "y_train_mlp = to_categorical(y_train)"
      ],
      "metadata": {
        "id": "x0D5wZmGfZXE"
      },
      "execution_count": null,
      "outputs": []
    },
    {
      "cell_type": "code",
      "source": [
        "y_train_mlp[0]"
      ],
      "metadata": {
        "colab": {
          "base_uri": "https://localhost:8080/"
        },
        "id": "CsLweX7SfZYl",
        "outputId": "dae17e6d-65fd-4de6-8725-d850b98a177a"
      },
      "execution_count": null,
      "outputs": [
        {
          "output_type": "execute_result",
          "data": {
            "text/plain": [
              "array([0., 0., 0., 0., 0., 1., 0., 0., 0., 0.], dtype=float32)"
            ]
          },
          "metadata": {},
          "execution_count": 71
        }
      ]
    },
    {
      "cell_type": "code",
      "source": [
        "y_test_mlp = to_categorical(y_test)"
      ],
      "metadata": {
        "id": "jgStG5tLfZb6"
      },
      "execution_count": null,
      "outputs": []
    },
    {
      "cell_type": "code",
      "source": [
        "history= model_mlp.fit(X_train_mlp, y_train_mlp,validation_data=(X_test_mlp,y_test_mlp),epochs = 100, batch_size = 64, shuffle=True)"
      ],
      "metadata": {
        "colab": {
          "base_uri": "https://localhost:8080/"
        },
        "id": "5FXG-RK41h2-",
        "outputId": "53e89496-0bba-4eb5-df27-ac285a0745a7"
      },
      "execution_count": null,
      "outputs": [
        {
          "output_type": "stream",
          "name": "stdout",
          "text": [
            "Epoch 1/100\n",
            "23/23 [==============================] - 1s 14ms/step - loss: 2.2131 - accuracy: 0.2679 - val_loss: 2.0190 - val_accuracy: 0.3333\n",
            "Epoch 2/100\n",
            "23/23 [==============================] - 0s 8ms/step - loss: 1.7022 - accuracy: 0.6360 - val_loss: 1.1859 - val_accuracy: 0.8222\n",
            "Epoch 3/100\n",
            "23/23 [==============================] - 0s 9ms/step - loss: 0.9210 - accuracy: 0.7898 - val_loss: 0.6126 - val_accuracy: 0.8306\n",
            "Epoch 4/100\n",
            "23/23 [==============================] - 0s 7ms/step - loss: 0.5635 - accuracy: 0.8379 - val_loss: 0.4263 - val_accuracy: 0.8611\n",
            "Epoch 5/100\n",
            "23/23 [==============================] - 0s 8ms/step - loss: 0.4072 - accuracy: 0.8852 - val_loss: 0.3210 - val_accuracy: 0.9083\n",
            "Epoch 6/100\n",
            "23/23 [==============================] - 0s 8ms/step - loss: 0.3189 - accuracy: 0.9137 - val_loss: 0.2638 - val_accuracy: 0.9139\n",
            "Epoch 7/100\n",
            "23/23 [==============================] - 0s 9ms/step - loss: 0.2547 - accuracy: 0.9276 - val_loss: 0.2422 - val_accuracy: 0.9194\n",
            "Epoch 8/100\n",
            "23/23 [==============================] - 0s 9ms/step - loss: 0.2243 - accuracy: 0.9381 - val_loss: 0.1939 - val_accuracy: 0.9389\n",
            "Epoch 9/100\n",
            "23/23 [==============================] - 0s 8ms/step - loss: 0.2089 - accuracy: 0.9436 - val_loss: 0.1757 - val_accuracy: 0.9417\n",
            "Epoch 10/100\n",
            "23/23 [==============================] - 0s 7ms/step - loss: 0.1690 - accuracy: 0.9492 - val_loss: 0.1861 - val_accuracy: 0.9361\n",
            "Epoch 11/100\n",
            "23/23 [==============================] - 0s 8ms/step - loss: 0.1530 - accuracy: 0.9576 - val_loss: 0.1543 - val_accuracy: 0.9472\n",
            "Epoch 12/100\n",
            "23/23 [==============================] - 0s 7ms/step - loss: 0.1549 - accuracy: 0.9534 - val_loss: 0.1769 - val_accuracy: 0.9361\n",
            "Epoch 13/100\n",
            "23/23 [==============================] - 0s 8ms/step - loss: 0.1443 - accuracy: 0.9562 - val_loss: 0.1337 - val_accuracy: 0.9528\n",
            "Epoch 14/100\n",
            "23/23 [==============================] - 0s 8ms/step - loss: 0.1263 - accuracy: 0.9631 - val_loss: 0.1261 - val_accuracy: 0.9500\n",
            "Epoch 15/100\n",
            "23/23 [==============================] - 0s 8ms/step - loss: 0.1108 - accuracy: 0.9708 - val_loss: 0.1139 - val_accuracy: 0.9583\n",
            "Epoch 16/100\n",
            "23/23 [==============================] - 0s 7ms/step - loss: 0.1045 - accuracy: 0.9715 - val_loss: 0.1048 - val_accuracy: 0.9611\n",
            "Epoch 17/100\n",
            "23/23 [==============================] - 0s 7ms/step - loss: 0.1025 - accuracy: 0.9687 - val_loss: 0.1084 - val_accuracy: 0.9556\n",
            "Epoch 18/100\n",
            "23/23 [==============================] - 0s 8ms/step - loss: 0.1041 - accuracy: 0.9659 - val_loss: 0.1039 - val_accuracy: 0.9611\n",
            "Epoch 19/100\n",
            "23/23 [==============================] - 0s 8ms/step - loss: 0.0991 - accuracy: 0.9687 - val_loss: 0.1148 - val_accuracy: 0.9556\n",
            "Epoch 20/100\n",
            "23/23 [==============================] - 0s 7ms/step - loss: 0.0956 - accuracy: 0.9680 - val_loss: 0.0966 - val_accuracy: 0.9694\n",
            "Epoch 21/100\n",
            "23/23 [==============================] - 0s 7ms/step - loss: 0.0755 - accuracy: 0.9763 - val_loss: 0.0930 - val_accuracy: 0.9694\n",
            "Epoch 22/100\n",
            "23/23 [==============================] - 0s 7ms/step - loss: 0.0834 - accuracy: 0.9722 - val_loss: 0.0978 - val_accuracy: 0.9694\n",
            "Epoch 23/100\n",
            "23/23 [==============================] - 0s 8ms/step - loss: 0.0655 - accuracy: 0.9826 - val_loss: 0.0876 - val_accuracy: 0.9667\n",
            "Epoch 24/100\n",
            "23/23 [==============================] - 0s 8ms/step - loss: 0.0670 - accuracy: 0.9826 - val_loss: 0.1087 - val_accuracy: 0.9611\n",
            "Epoch 25/100\n",
            "23/23 [==============================] - 0s 8ms/step - loss: 0.0553 - accuracy: 0.9840 - val_loss: 0.0904 - val_accuracy: 0.9667\n",
            "Epoch 26/100\n",
            "23/23 [==============================] - 0s 7ms/step - loss: 0.0590 - accuracy: 0.9840 - val_loss: 0.0852 - val_accuracy: 0.9667\n",
            "Epoch 27/100\n",
            "23/23 [==============================] - 0s 8ms/step - loss: 0.0573 - accuracy: 0.9826 - val_loss: 0.0828 - val_accuracy: 0.9722\n",
            "Epoch 28/100\n",
            "23/23 [==============================] - 0s 7ms/step - loss: 0.0517 - accuracy: 0.9840 - val_loss: 0.1037 - val_accuracy: 0.9583\n",
            "Epoch 29/100\n",
            "23/23 [==============================] - 0s 7ms/step - loss: 0.0419 - accuracy: 0.9896 - val_loss: 0.0834 - val_accuracy: 0.9639\n",
            "Epoch 30/100\n",
            "23/23 [==============================] - 0s 8ms/step - loss: 0.0408 - accuracy: 0.9896 - val_loss: 0.0906 - val_accuracy: 0.9750\n",
            "Epoch 31/100\n",
            "23/23 [==============================] - 0s 8ms/step - loss: 0.0465 - accuracy: 0.9861 - val_loss: 0.0873 - val_accuracy: 0.9611\n",
            "Epoch 32/100\n",
            "23/23 [==============================] - 0s 8ms/step - loss: 0.0565 - accuracy: 0.9819 - val_loss: 0.1020 - val_accuracy: 0.9611\n",
            "Epoch 33/100\n",
            "23/23 [==============================] - 0s 8ms/step - loss: 0.0517 - accuracy: 0.9861 - val_loss: 0.0781 - val_accuracy: 0.9694\n",
            "Epoch 34/100\n",
            "23/23 [==============================] - 0s 7ms/step - loss: 0.0367 - accuracy: 0.9910 - val_loss: 0.1018 - val_accuracy: 0.9694\n",
            "Epoch 35/100\n",
            "23/23 [==============================] - 0s 13ms/step - loss: 0.0414 - accuracy: 0.9882 - val_loss: 0.0876 - val_accuracy: 0.9639\n",
            "Epoch 36/100\n",
            "23/23 [==============================] - 0s 12ms/step - loss: 0.0334 - accuracy: 0.9916 - val_loss: 0.1252 - val_accuracy: 0.9583\n",
            "Epoch 37/100\n",
            "23/23 [==============================] - 0s 11ms/step - loss: 0.0299 - accuracy: 0.9930 - val_loss: 0.0873 - val_accuracy: 0.9694\n",
            "Epoch 38/100\n",
            "23/23 [==============================] - 0s 11ms/step - loss: 0.0307 - accuracy: 0.9923 - val_loss: 0.0800 - val_accuracy: 0.9694\n",
            "Epoch 39/100\n",
            "23/23 [==============================] - 0s 12ms/step - loss: 0.0288 - accuracy: 0.9944 - val_loss: 0.0726 - val_accuracy: 0.9694\n",
            "Epoch 40/100\n",
            "23/23 [==============================] - 0s 12ms/step - loss: 0.0336 - accuracy: 0.9896 - val_loss: 0.0899 - val_accuracy: 0.9694\n",
            "Epoch 41/100\n",
            "23/23 [==============================] - 0s 12ms/step - loss: 0.0290 - accuracy: 0.9930 - val_loss: 0.0834 - val_accuracy: 0.9750\n",
            "Epoch 42/100\n",
            "23/23 [==============================] - 0s 11ms/step - loss: 0.0218 - accuracy: 0.9951 - val_loss: 0.0717 - val_accuracy: 0.9694\n",
            "Epoch 43/100\n",
            "23/23 [==============================] - 0s 15ms/step - loss: 0.0204 - accuracy: 0.9958 - val_loss: 0.0794 - val_accuracy: 0.9667\n",
            "Epoch 44/100\n",
            "23/23 [==============================] - 0s 12ms/step - loss: 0.0200 - accuracy: 0.9951 - val_loss: 0.0710 - val_accuracy: 0.9722\n",
            "Epoch 45/100\n",
            "23/23 [==============================] - 0s 9ms/step - loss: 0.0190 - accuracy: 0.9972 - val_loss: 0.0750 - val_accuracy: 0.9667\n",
            "Epoch 46/100\n",
            "23/23 [==============================] - 0s 9ms/step - loss: 0.0269 - accuracy: 0.9923 - val_loss: 0.0854 - val_accuracy: 0.9722\n",
            "Epoch 47/100\n",
            "23/23 [==============================] - 0s 8ms/step - loss: 0.0210 - accuracy: 0.9958 - val_loss: 0.0744 - val_accuracy: 0.9694\n",
            "Epoch 48/100\n",
            "23/23 [==============================] - 0s 8ms/step - loss: 0.0172 - accuracy: 0.9937 - val_loss: 0.0796 - val_accuracy: 0.9694\n",
            "Epoch 49/100\n",
            "23/23 [==============================] - 0s 8ms/step - loss: 0.0224 - accuracy: 0.9930 - val_loss: 0.0762 - val_accuracy: 0.9694\n",
            "Epoch 50/100\n",
            "23/23 [==============================] - 0s 8ms/step - loss: 0.0241 - accuracy: 0.9930 - val_loss: 0.0923 - val_accuracy: 0.9750\n",
            "Epoch 51/100\n",
            "23/23 [==============================] - 0s 8ms/step - loss: 0.0246 - accuracy: 0.9944 - val_loss: 0.0785 - val_accuracy: 0.9722\n",
            "Epoch 52/100\n",
            "23/23 [==============================] - 0s 9ms/step - loss: 0.0189 - accuracy: 0.9958 - val_loss: 0.0790 - val_accuracy: 0.9778\n",
            "Epoch 53/100\n",
            "23/23 [==============================] - 0s 8ms/step - loss: 0.0194 - accuracy: 0.9944 - val_loss: 0.0690 - val_accuracy: 0.9722\n",
            "Epoch 54/100\n",
            "23/23 [==============================] - 0s 7ms/step - loss: 0.0139 - accuracy: 0.9958 - val_loss: 0.0690 - val_accuracy: 0.9778\n",
            "Epoch 55/100\n",
            "23/23 [==============================] - 0s 8ms/step - loss: 0.0168 - accuracy: 0.9958 - val_loss: 0.0741 - val_accuracy: 0.9722\n",
            "Epoch 56/100\n",
            "23/23 [==============================] - 0s 8ms/step - loss: 0.0183 - accuracy: 0.9965 - val_loss: 0.0801 - val_accuracy: 0.9750\n",
            "Epoch 57/100\n",
            "23/23 [==============================] - 0s 8ms/step - loss: 0.0110 - accuracy: 0.9993 - val_loss: 0.0733 - val_accuracy: 0.9694\n",
            "Epoch 58/100\n",
            "23/23 [==============================] - 0s 7ms/step - loss: 0.0104 - accuracy: 0.9972 - val_loss: 0.0721 - val_accuracy: 0.9750\n",
            "Epoch 59/100\n",
            "23/23 [==============================] - 0s 9ms/step - loss: 0.0123 - accuracy: 0.9986 - val_loss: 0.0692 - val_accuracy: 0.9750\n",
            "Epoch 60/100\n",
            "23/23 [==============================] - 0s 7ms/step - loss: 0.0114 - accuracy: 0.9979 - val_loss: 0.0749 - val_accuracy: 0.9722\n",
            "Epoch 61/100\n",
            "23/23 [==============================] - 0s 7ms/step - loss: 0.0108 - accuracy: 0.9972 - val_loss: 0.0679 - val_accuracy: 0.9750\n",
            "Epoch 62/100\n",
            "23/23 [==============================] - 0s 8ms/step - loss: 0.0079 - accuracy: 0.9993 - val_loss: 0.0688 - val_accuracy: 0.9750\n",
            "Epoch 63/100\n",
            "23/23 [==============================] - 0s 9ms/step - loss: 0.0086 - accuracy: 0.9979 - val_loss: 0.0719 - val_accuracy: 0.9750\n",
            "Epoch 64/100\n",
            "23/23 [==============================] - 0s 7ms/step - loss: 0.0084 - accuracy: 0.9986 - val_loss: 0.0691 - val_accuracy: 0.9722\n",
            "Epoch 65/100\n",
            "23/23 [==============================] - 0s 8ms/step - loss: 0.0081 - accuracy: 0.9993 - val_loss: 0.0663 - val_accuracy: 0.9722\n",
            "Epoch 66/100\n",
            "23/23 [==============================] - 0s 8ms/step - loss: 0.0100 - accuracy: 0.9979 - val_loss: 0.0769 - val_accuracy: 0.9722\n",
            "Epoch 67/100\n",
            "23/23 [==============================] - 0s 7ms/step - loss: 0.0100 - accuracy: 0.9986 - val_loss: 0.0666 - val_accuracy: 0.9750\n",
            "Epoch 68/100\n",
            "23/23 [==============================] - 0s 9ms/step - loss: 0.0108 - accuracy: 0.9979 - val_loss: 0.0658 - val_accuracy: 0.9806\n",
            "Epoch 69/100\n",
            "23/23 [==============================] - 0s 8ms/step - loss: 0.0066 - accuracy: 0.9986 - val_loss: 0.0752 - val_accuracy: 0.9778\n",
            "Epoch 70/100\n",
            "23/23 [==============================] - 0s 8ms/step - loss: 0.0073 - accuracy: 1.0000 - val_loss: 0.0685 - val_accuracy: 0.9750\n",
            "Epoch 71/100\n",
            "23/23 [==============================] - 0s 8ms/step - loss: 0.0059 - accuracy: 1.0000 - val_loss: 0.0666 - val_accuracy: 0.9778\n",
            "Epoch 72/100\n",
            "23/23 [==============================] - 0s 8ms/step - loss: 0.0062 - accuracy: 0.9993 - val_loss: 0.0687 - val_accuracy: 0.9750\n",
            "Epoch 73/100\n",
            "23/23 [==============================] - 0s 8ms/step - loss: 0.0053 - accuracy: 0.9993 - val_loss: 0.0680 - val_accuracy: 0.9778\n",
            "Epoch 74/100\n",
            "23/23 [==============================] - 0s 9ms/step - loss: 0.0063 - accuracy: 1.0000 - val_loss: 0.0628 - val_accuracy: 0.9750\n",
            "Epoch 75/100\n",
            "23/23 [==============================] - 0s 8ms/step - loss: 0.0053 - accuracy: 0.9993 - val_loss: 0.0617 - val_accuracy: 0.9806\n",
            "Epoch 76/100\n",
            "23/23 [==============================] - 0s 8ms/step - loss: 0.0071 - accuracy: 0.9986 - val_loss: 0.0688 - val_accuracy: 0.9778\n",
            "Epoch 77/100\n",
            "23/23 [==============================] - 0s 7ms/step - loss: 0.0039 - accuracy: 0.9993 - val_loss: 0.0679 - val_accuracy: 0.9750\n",
            "Epoch 78/100\n",
            "23/23 [==============================] - 0s 8ms/step - loss: 0.0038 - accuracy: 1.0000 - val_loss: 0.0708 - val_accuracy: 0.9750\n",
            "Epoch 79/100\n",
            "23/23 [==============================] - 0s 8ms/step - loss: 0.0042 - accuracy: 1.0000 - val_loss: 0.0696 - val_accuracy: 0.9722\n",
            "Epoch 80/100\n",
            "23/23 [==============================] - 0s 8ms/step - loss: 0.0045 - accuracy: 1.0000 - val_loss: 0.0863 - val_accuracy: 0.9722\n",
            "Epoch 81/100\n",
            "23/23 [==============================] - 0s 17ms/step - loss: 0.0043 - accuracy: 0.9993 - val_loss: 0.0669 - val_accuracy: 0.9778\n",
            "Epoch 82/100\n",
            "23/23 [==============================] - 0s 20ms/step - loss: 0.0054 - accuracy: 0.9993 - val_loss: 0.0697 - val_accuracy: 0.9722\n",
            "Epoch 83/100\n",
            "23/23 [==============================] - 0s 8ms/step - loss: 0.0059 - accuracy: 0.9986 - val_loss: 0.0758 - val_accuracy: 0.9694\n",
            "Epoch 84/100\n",
            "23/23 [==============================] - 0s 7ms/step - loss: 0.0054 - accuracy: 1.0000 - val_loss: 0.0652 - val_accuracy: 0.9806\n",
            "Epoch 85/100\n",
            "23/23 [==============================] - 1s 31ms/step - loss: 0.0057 - accuracy: 0.9993 - val_loss: 0.0856 - val_accuracy: 0.9722\n",
            "Epoch 86/100\n",
            "23/23 [==============================] - 1s 31ms/step - loss: 0.0048 - accuracy: 0.9986 - val_loss: 0.0940 - val_accuracy: 0.9667\n",
            "Epoch 87/100\n",
            "23/23 [==============================] - 0s 11ms/step - loss: 0.0029 - accuracy: 1.0000 - val_loss: 0.0654 - val_accuracy: 0.9806\n",
            "Epoch 88/100\n",
            "23/23 [==============================] - 0s 18ms/step - loss: 0.0058 - accuracy: 0.9979 - val_loss: 0.0760 - val_accuracy: 0.9778\n",
            "Epoch 89/100\n",
            "23/23 [==============================] - 1s 29ms/step - loss: 0.0045 - accuracy: 0.9993 - val_loss: 0.0715 - val_accuracy: 0.9722\n",
            "Epoch 90/100\n",
            "23/23 [==============================] - 1s 24ms/step - loss: 0.0069 - accuracy: 0.9979 - val_loss: 0.0731 - val_accuracy: 0.9750\n",
            "Epoch 91/100\n",
            "23/23 [==============================] - 1s 23ms/step - loss: 0.0098 - accuracy: 0.9965 - val_loss: 0.0758 - val_accuracy: 0.9750\n",
            "Epoch 92/100\n",
            "23/23 [==============================] - 0s 14ms/step - loss: 0.0051 - accuracy: 1.0000 - val_loss: 0.0748 - val_accuracy: 0.9750\n",
            "Epoch 93/100\n",
            "23/23 [==============================] - 0s 13ms/step - loss: 0.0041 - accuracy: 0.9993 - val_loss: 0.0696 - val_accuracy: 0.9750\n",
            "Epoch 94/100\n",
            "23/23 [==============================] - 0s 14ms/step - loss: 0.0045 - accuracy: 0.9993 - val_loss: 0.0675 - val_accuracy: 0.9778\n",
            "Epoch 95/100\n",
            "23/23 [==============================] - 0s 12ms/step - loss: 0.0033 - accuracy: 0.9993 - val_loss: 0.0700 - val_accuracy: 0.9778\n",
            "Epoch 96/100\n",
            "23/23 [==============================] - 0s 13ms/step - loss: 0.0033 - accuracy: 1.0000 - val_loss: 0.0630 - val_accuracy: 0.9778\n",
            "Epoch 97/100\n",
            "23/23 [==============================] - 0s 10ms/step - loss: 0.0036 - accuracy: 0.9993 - val_loss: 0.0814 - val_accuracy: 0.9722\n",
            "Epoch 98/100\n",
            "23/23 [==============================] - 0s 8ms/step - loss: 0.0036 - accuracy: 0.9993 - val_loss: 0.0575 - val_accuracy: 0.9833\n",
            "Epoch 99/100\n",
            "23/23 [==============================] - 0s 7ms/step - loss: 0.0031 - accuracy: 1.0000 - val_loss: 0.0617 - val_accuracy: 0.9806\n",
            "Epoch 100/100\n",
            "23/23 [==============================] - 0s 8ms/step - loss: 0.0030 - accuracy: 0.9993 - val_loss: 0.0607 - val_accuracy: 0.9806\n"
          ]
        }
      ]
    },
    {
      "cell_type": "code",
      "source": [
        "test_loss_mlp, test_acc_mlp = model_mlp.evaluate(X_test_mlp, y_test_mlp)"
      ],
      "metadata": {
        "colab": {
          "base_uri": "https://localhost:8080/"
        },
        "id": "dVH5YHl71PYM",
        "outputId": "89ac885b-8dcf-4c35-fcea-e0495eb61bf2"
      },
      "execution_count": null,
      "outputs": [
        {
          "output_type": "stream",
          "name": "stdout",
          "text": [
            "12/12 [==============================] - 0s 2ms/step - loss: 0.0607 - accuracy: 0.9806\n"
          ]
        }
      ]
    },
    {
      "cell_type": "code",
      "source": [
        "print('test accuracy:', (test_acc_mlp*100))"
      ],
      "metadata": {
        "colab": {
          "base_uri": "https://localhost:8080/"
        },
        "id": "0FhAN9VGfZj1",
        "outputId": "8bcc7b37-d6c8-4fd0-98ea-77d45196f43d"
      },
      "execution_count": null,
      "outputs": [
        {
          "output_type": "stream",
          "name": "stdout",
          "text": [
            "test accuracy: 98.0555534362793\n"
          ]
        }
      ]
    },
    {
      "cell_type": "code",
      "source": [
        "predictions=model_mlp.predict(X_test_mlp[0:100])"
      ],
      "metadata": {
        "id": "JUDBtDDOqTSB",
        "colab": {
          "base_uri": "https://localhost:8080/"
        },
        "outputId": "77eb07b2-ae94-4384-c62e-edbd749beadb"
      },
      "execution_count": null,
      "outputs": [
        {
          "output_type": "stream",
          "name": "stdout",
          "text": [
            "4/4 [==============================] - 0s 3ms/step\n"
          ]
        }
      ]
    },
    {
      "cell_type": "code",
      "source": [
        "predictions[0]"
      ],
      "metadata": {
        "colab": {
          "base_uri": "https://localhost:8080/"
        },
        "id": "lBubzADZ93xh",
        "outputId": "d6c1b4af-f2aa-445b-d39d-4b77ac36370a"
      },
      "execution_count": null,
      "outputs": [
        {
          "output_type": "execute_result",
          "data": {
            "text/plain": [
              "array([3.7901719e-07, 5.4541985e-15, 4.9757180e-15, 3.8419010e-08,\n",
              "       5.7143090e-10, 9.9999744e-01, 1.9384936e-06, 3.0734212e-10,\n",
              "       2.5152493e-08, 2.5177320e-07], dtype=float32)"
            ]
          },
          "metadata": {},
          "execution_count": 77
        }
      ]
    },
    {
      "cell_type": "code",
      "source": [
        "np.argmax(predictions[0])"
      ],
      "metadata": {
        "colab": {
          "base_uri": "https://localhost:8080/"
        },
        "id": "SIF7fDRH97i4",
        "outputId": "38c674b5-3ffa-487c-a759-a9684f6b769a"
      },
      "execution_count": null,
      "outputs": [
        {
          "output_type": "execute_result",
          "data": {
            "text/plain": [
              "5"
            ]
          },
          "metadata": {},
          "execution_count": 78
        }
      ]
    },
    {
      "cell_type": "code",
      "source": [
        "plt.imshow(X_test_mlp[0].reshape(8,8))"
      ],
      "metadata": {
        "colab": {
          "base_uri": "https://localhost:8080/",
          "height": 282
        },
        "id": "S1LCX0mR-DXt",
        "outputId": "2e671de6-3b88-4f83-8514-8c542d652a10"
      },
      "execution_count": null,
      "outputs": [
        {
          "output_type": "execute_result",
          "data": {
            "text/plain": [
              "<matplotlib.image.AxesImage at 0x7fa1d9f216d0>"
            ]
          },
          "metadata": {},
          "execution_count": 79
        },
        {
          "output_type": "display_data",
          "data": {
            "text/plain": [
              "<Figure size 432x288 with 1 Axes>"
            ],
            "image/png": "[encoded data removed]"
          },
          "metadata": {
            "needs_background": "light"
          }
        }
      ]
    },
    {
      "cell_type": "code",
      "source": [
        "np.argmax(predictions,axis=1)"
      ],
      "metadata": {
        "colab": {
          "base_uri": "https://localhost:8080/"
        },
        "id": "-3ZuEypz_Bb3",
        "outputId": "5646b45c-183f-4bbd-e058-7702ecd5f582"
      },
      "execution_count": null,
      "outputs": [
        {
          "output_type": "execute_result",
          "data": {
            "text/plain": [
              "array([5, 2, 8, 8, 7, 2, 6, 2, 6, 5, 0, 5, 9, 3, 4, 4, 2, 4, 9, 9, 6, 3,\n",
              "       8, 1, 2, 5, 6, 0, 3, 4, 6, 7, 2, 6, 6, 6, 6, 5, 0, 9, 1, 7, 9, 6,\n",
              "       5, 7, 5, 2, 7, 5, 0, 1, 5, 5, 3, 2, 4, 0, 0, 2, 7, 5, 6, 1, 3, 7,\n",
              "       6, 5, 7, 0, 9, 0, 3, 8, 2, 5, 8, 2, 3, 5, 9, 3, 2, 7, 9, 6, 8, 1,\n",
              "       0, 1, 2, 9, 4, 7, 1, 2, 7, 8, 4, 2])"
            ]
          },
          "metadata": {},
          "execution_count": 80
        }
      ]
    },
    {
      "cell_type": "code",
      "source": [
        "y_test[0:100]"
      ],
      "metadata": {
        "colab": {
          "base_uri": "https://localhost:8080/"
        },
        "id": "Ts3xU7ScAEKi",
        "outputId": "55857929-a795-40b8-ae2a-90e95c082fe3"
      },
      "execution_count": null,
      "outputs": [
        {
          "output_type": "execute_result",
          "data": {
            "text/plain": [
              "array([5, 2, 8, 1, 7, 2, 6, 2, 6, 5, 0, 5, 9, 3, 4, 4, 2, 4, 9, 9, 6, 3,\n",
              "       8, 1, 2, 5, 6, 0, 3, 4, 6, 7, 2, 6, 6, 6, 6, 5, 0, 9, 1, 7, 9, 6,\n",
              "       5, 7, 5, 2, 7, 5, 0, 8, 5, 5, 3, 2, 4, 0, 0, 2, 7, 5, 6, 1, 3, 7,\n",
              "       6, 5, 7, 0, 9, 0, 3, 8, 2, 5, 8, 2, 3, 5, 9, 3, 2, 7, 9, 6, 8, 1,\n",
              "       0, 1, 2, 9, 4, 9, 1, 2, 7, 8, 4, 2])"
            ]
          },
          "metadata": {},
          "execution_count": 81
        }
      ]
    },
    {
      "cell_type": "code",
      "source": [
        "np.argmax(predictions,axis=1) ==y_test[0:100]"
      ],
      "metadata": {
        "colab": {
          "base_uri": "https://localhost:8080/"
        },
        "id": "L3z8zwWPAUcx",
        "outputId": "0211cdbf-88cb-4878-c39e-b29499100cd7"
      },
      "execution_count": null,
      "outputs": [
        {
          "output_type": "execute_result",
          "data": {
            "text/plain": [
              "array([ True,  True,  True, False,  True,  True,  True,  True,  True,\n",
              "        True,  True,  True,  True,  True,  True,  True,  True,  True,\n",
              "        True,  True,  True,  True,  True,  True,  True,  True,  True,\n",
              "        True,  True,  True,  True,  True,  True,  True,  True,  True,\n",
              "        True,  True,  True,  True,  True,  True,  True,  True,  True,\n",
              "        True,  True,  True,  True,  True,  True, False,  True,  True,\n",
              "        True,  True,  True,  True,  True,  True,  True,  True,  True,\n",
              "        True,  True,  True,  True,  True,  True,  True,  True,  True,\n",
              "        True,  True,  True,  True,  True,  True,  True,  True,  True,\n",
              "        True,  True,  True,  True,  True,  True,  True,  True,  True,\n",
              "        True,  True,  True, False,  True,  True,  True,  True,  True,\n",
              "        True])"
            ]
          },
          "metadata": {},
          "execution_count": 82
        }
      ]
    },
    {
      "cell_type": "code",
      "source": [
        "np.mean(np.argmax(predictions,axis=1) ==y_test[0:100])"
      ],
      "metadata": {
        "colab": {
          "base_uri": "https://localhost:8080/"
        },
        "id": "lqn2osVABRwf",
        "outputId": "1c332cc4-5cf2-4858-edb0-c553a0d43c09"
      },
      "execution_count": null,
      "outputs": [
        {
          "output_type": "execute_result",
          "data": {
            "text/plain": [
              "0.97"
            ]
          },
          "metadata": {},
          "execution_count": 83
        }
      ]
    },
    {
      "cell_type": "code",
      "source": [
        "wrong = np.argmin(np.argmax(predictions,axis=1) == y_test[0:100])\n",
        "print(wrong)"
      ],
      "metadata": {
        "colab": {
          "base_uri": "https://localhost:8080/"
        },
        "id": "s6lNnpIfBpt8",
        "outputId": "2fe9df81-5b95-4601-cb8f-1d5e2290e165"
      },
      "execution_count": null,
      "outputs": [
        {
          "output_type": "stream",
          "name": "stdout",
          "text": [
            "3\n"
          ]
        }
      ]
    },
    {
      "cell_type": "code",
      "source": [
        "plt.imshow(X_test_mlp[wrong].reshape(8,8))\n",
        "plt.show()\n",
        "print(\"label for \",wrong,\":\",y_test[wrong])\n",
        "print(\"prediction for it : \",np.argmax(predictions[wrong]))"
      ],
      "metadata": {
        "colab": {
          "base_uri": "https://localhost:8080/",
          "height": 300
        },
        "id": "LZNxyDyCCA7M",
        "outputId": "172e7280-8acd-4a0c-f201-3df4ebbf4e13"
      },
      "execution_count": null,
      "outputs": [
        {
          "output_type": "display_data",
          "data": {
            "text/plain": [
              "<Figure size 432x288 with 1 Axes>"
            ],
            "image/png": "[encoded data removed]"
          },
          "metadata": {
            "needs_background": "light"
          }
        },
        {
          "output_type": "stream",
          "name": "stdout",
          "text": [
            "label for  3 : 1\n",
            "prediction for it :  8\n"
          ]
        }
      ]
    },
    {
      "cell_type": "code",
      "source": [
        "from  matplotlib import pyplot as plt\n",
        "plt.plot(history.history['accuracy'])\n",
        "plt.plot(history.history['val_accuracy'])\n",
        "plt.title('model accuracy')\n",
        "plt.ylabel('accuracy')\n",
        "plt.xlabel('epoch')\n",
        "plt.legend(['train', 'test'], loc='upper left')\n",
        "plt.grid()\n",
        "plt.show()"
      ],
      "metadata": {
        "id": "9upRVjISC6ZK",
        "colab": {
          "base_uri": "https://localhost:8080/",
          "height": 295
        },
        "outputId": "2137bd8c-4d83-4361-90d9-d907e733e1ab"
      },
      "execution_count": null,
      "outputs": [
        {
          "output_type": "display_data",
          "data": {
            "text/plain": [
              "<Figure size 432x288 with 1 Axes>"
            ],
            "image/png": "[encoded data removed]"
          },
          "metadata": {
            "needs_background": "light"
          }
        }
      ]
    },
    {
      "cell_type": "code",
      "source": [
        "loss_train = history.history['loss']\n",
        "loss_val = history.history['val_loss']\n",
        "epochs = range(1,101)\n",
        "plt.plot(epochs, loss_train, 'g', label='Training loss')\n",
        "plt.plot(epochs, loss_val, 'b', label='validation loss')\n",
        "plt.title('Training and Validation loss')\n",
        "plt.xlabel('Epochs')\n",
        "plt.ylabel('Loss')\n",
        "plt.legend()\n",
        "plt.show()"
      ],
      "metadata": {
        "id": "HtpdqAHeIPKq",
        "colab": {
          "base_uri": "https://localhost:8080/",
          "height": 295
        },
        "outputId": "1982f41b-751f-4c24-f72c-e9316c98b41f"
      },
      "execution_count": null,
      "outputs": [
        {
          "output_type": "display_data",
          "data": {
            "text/plain": [
              "<Figure size 432x288 with 1 Axes>"
            ],
            "image/png": "[encoded data removed]"
          },
          "metadata": {
            "needs_background": "light"
          }
        }
      ]
    },
    {
      "cell_type": "code",
      "source": [],
      "metadata": {
        "id": "lJbM3zKJLKjb"
      },
      "execution_count": null,
      "outputs": []
    }
  ],
  "metadata": {
    "colab": {
      "provenance": []
    },
    "kernelspec": {
      "display_name": "Python 3",
      "name": "python3"
    }
  },
  "nbformat": 4,
  "nbformat_minor": 0
}